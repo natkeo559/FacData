{
 "cells": [
  {
   "cell_type": "code",
   "execution_count": null,
   "metadata": {},
   "outputs": [],
   "source": [
    "import numpy as np\n",
    "import itertools as itt\n",
    "import matplotlib.pyplot as plt"
   ]
  },
  {
   "cell_type": "markdown",
   "metadata": {},
   "source": [
    "{\n",
    "    \"r1c1\": 0.8703565062,\n",
    "    \"r1c2\": 0.0,\n",
    "    \"r1c3\": 0.0,\n",
    "    \"r2c1\": 0.08146167558,\n",
    "    \"r2c2\": 0.8849294791,\n",
    "    \"r2c3\": 0.0,\n",
    "    \"r3c1\": 0.0,\n",
    "    \"r3c2\": 0.06255830191,\n",
    "    \"r3c3\": 0.9053781513,\n",
    "    \"Years\": 15,\n",
    "    \"Initial Asst\": 12,\n",
    "    \"Initial Assoc\": 35,\n",
    "    \"Initial Full\": 14\n",
    "}"
   ]
  },
  {
   "cell_type": "code",
   "execution_count": null,
   "metadata": {},
   "outputs": [],
   "source": [
    "a = np.array([[0.8703565062,  0.0,           0.0],\n",
    "              [0.08146167558, 0.8849294791,  0.0],\n",
    "              [0.0,           0.06255830191, 0.9053781513]])\n",
    "\n",
    "b = np.array([[12],\n",
    "               [35],\n",
    "               [14]])\n",
    "\n",
    "x = np.arange(1, 50)\n"
   ]
  },
  {
   "cell_type": "code",
   "execution_count": null,
   "metadata": {},
   "outputs": [],
   "source": [
    "y = []\n",
    "p1 = []\n",
    "p2 = []\n",
    "p3 = []\n",
    "for i in x:\n",
    "    c = np.matmul(np.power(a, i), b)\n",
    "    y.append(c[0, 0] + c[1, 0] + c[2, 0])\n",
    "    p1.append(c[0, 0])\n",
    "    p2.append(c[1, 0])\n",
    "    p3.append(c[2, 0])"
   ]
  },
  {
   "cell_type": "code",
   "execution_count": null,
   "metadata": {},
   "outputs": [],
   "source": [
    "fig, ax = plt.subplots()\n",
    "ax.plot(x, y)\n",
    "ax.set(xlabel='time (y)', ylabel='Population (Total)',\n",
    "       title='Total Faculty Population')\n",
    "ax.grid()"
   ]
  },
  {
   "cell_type": "code",
   "execution_count": null,
   "metadata": {},
   "outputs": [],
   "source": [
    "fig, ax = plt.subplots()\n",
    "ax.plot(x, p1)\n",
    "ax.plot(x, p2)\n",
    "ax.plot(x, p3)\n",
    "ax.set(xlabel='time (y)', ylabel='Population (Assistant)',\n",
    "       title='Faculty Population')\n",
    "ax.grid()"
   ]
  }
 ],
 "metadata": {
  "interpreter": {
   "hash": "020f49600fb535580a440bd3da9bf6ed1f54982e787b579a1cac8c692a228c8e"
  },
  "kernelspec": {
   "display_name": "Python 3.8.1 64-bit ('Population_Model': virtualenv)",
   "language": "python",
   "name": "python3"
  },
  "language_info": {
   "codemirror_mode": {
    "name": "ipython",
    "version": 3
   },
   "file_extension": ".py",
   "mimetype": "text/x-python",
   "name": "python",
   "nbconvert_exporter": "python",
   "pygments_lexer": "ipython3",
   "version": "3.8.1"
  },
  "orig_nbformat": 4
 },
 "nbformat": 4,
 "nbformat_minor": 2
}
